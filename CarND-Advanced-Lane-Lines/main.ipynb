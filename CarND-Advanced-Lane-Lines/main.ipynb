{
 "cells": [
  {
   "cell_type": "code",
   "execution_count": null,
   "metadata": {
    "collapsed": true
   },
   "outputs": [],
   "source": [
    "\"\"\"Departure Warning System with a Monocular Camera\"\"\"\n",
    "\n",
    "from lane import *\n",
    "from moviepy.editor import VideoFileClip\n",
    "\n",
    "\n",
    "if __name__ == \"__main__\":\n",
    "\n",
    "    demo = 1 # 1: image, 2 video\n",
    "\n",
    "     if demo == 1:\n",
    "        imagepath = 'test_images/test1.jpg'\n",
    "        img = cv2.imread(imagepath)\n",
    "        img_aug = process_frame(img)\n",
    "\n",
    "        f, (ax1, ax2) = plt.subplots(1, 2, figsize=(25, 9))\n",
    "        img = cv2.cvtColor(img, cv2.COLOR_BGR2RGB)\n",
    "        ax1.imshow(img)\n",
    "        ax1.set_title('Original Image', fontsize=30)\n",
    "        img_aug = cv2.cvtColor(img_aug, cv2.COLOR_BGR2RGB)\n",
    "        ax2.imshow(img_aug)\n",
    "        ax2.set_title('Augmented Image', fontsize=30)\n",
    "        plt.show()\n",
    "\n",
    "    else:\n",
    "        video_output = 'output_images/project_video_augmented.mp4'\n",
    "        clip1 = VideoFileClip(\"project_video.mp4\")\n",
    "\n",
    "        clip = clip1.fl_image(process_frame) #NOTE: it should be in BGR format\n",
    "        clip.write_videofile(video_output, audio=False)"
   ]
  }
 ],
 "metadata": {
  "kernelspec": {
   "display_name": "Python 3",
   "language": "python",
   "name": "python3"
  },
  "language_info": {
   "codemirror_mode": {
    "name": "ipython",
    "version": 3
   },
   "file_extension": ".py",
   "mimetype": "text/x-python",
   "name": "python",
   "nbconvert_exporter": "python",
   "pygments_lexer": "ipython3",
   "version": "3.5.4"
  }
 },
 "nbformat": 4,
 "nbformat_minor": 2
}
